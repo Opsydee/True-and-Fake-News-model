{
 "cells": [
  {
   "cell_type": "code",
   "execution_count": null,
   "id": "0aedb9a6-d8ce-40b2-9bf0-ff7aaf48678e",
   "metadata": {},
   "outputs": [],
   "source": [
    "c.MultipleLines.value_counts()"
   ]
  },
  {
   "cell_type": "code",
   "execution_count": null,
   "id": "29e98bef-a3ff-4f19-a2ef-26bd2e99e6d7",
   "metadata": {},
   "outputs": [],
   "source": [
    "# one-hot encode specified columns\n",
    "dummy_columns = [\"gender\",\"InternetService\",\"PaymentMethod\"]"
   ]
  },
  {
   "cell_type": "code",
   "execution_count": null,
   "id": "ff259df6-ccbc-4c73-ade5-05401cb289a6",
   "metadata": {},
   "outputs": [],
   "source": [
    "c =pd.get_dummies(c, columns=dummy_columns,drop_first = False,dtype=int)"
   ]
  },
  {
   "cell_type": "code",
   "execution_count": null,
   "id": "a8d71aa2-6658-450c-afa6-48e2d6b24e76",
   "metadata": {},
   "outputs": [],
   "source": [
    "c.columns"
   ]
  },
  {
   "cell_type": "code",
   "execution_count": null,
   "id": "67201591-a388-4aeb-a50c-984e69c02693",
   "metadata": {},
   "outputs": [],
   "source": [
    "# Identify columns of type 'object'\n",
    "object_columns = c.select_dtypes(include='object').columns"
   ]
  },
  {
   "cell_type": "code",
   "execution_count": null,
   "id": "87b320a1-4baf-4dca-b383-d03548c5bdba",
   "metadata": {},
   "outputs": [],
   "source": [
    "# specify columns to exclude from label encoding\n",
    "exclude_columns = [\"gender\",\"InternetService\",\"PaymentMethod\",\"MultipleLines\"]"
   ]
  },
  {
   "cell_type": "code",
   "execution_count": null,
   "id": "385e1c6b-365a-49fb-9bf3-23736a3f4796",
   "metadata": {},
   "outputs": [],
   "source": [
    "exclude_columns"
   ]
  }
 ],
 "metadata": {
  "kernelspec": {
   "display_name": "Python 3 (ipykernel)",
   "language": "python",
   "name": "python3"
  },
  "language_info": {
   "codemirror_mode": {
    "name": "ipython",
    "version": 3
   },
   "file_extension": ".py",
   "mimetype": "text/x-python",
   "name": "python",
   "nbconvert_exporter": "python",
   "pygments_lexer": "ipython3",
   "version": "3.12.7"
  }
 },
 "nbformat": 4,
 "nbformat_minor": 5
}
